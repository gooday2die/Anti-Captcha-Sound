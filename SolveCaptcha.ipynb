{
 "cells": [
  {
   "cell_type": "code",
   "execution_count": 1,
   "id": "f3775c01",
   "metadata": {},
   "outputs": [
    {
     "name": "stdout",
     "output_type": "stream",
     "text": [
      "importing Jupyter notebook from AudioSpliter.ipynb\n"
     ]
    }
   ],
   "source": [
    "import import_ipynb\n",
    "from AudioSpliter import *"
   ]
  },
  {
   "cell_type": "code",
   "execution_count": 2,
   "id": "a88b7e68",
   "metadata": {},
   "outputs": [
    {
     "name": "stdout",
     "output_type": "stream",
     "text": [
      "Exported : 0.wav\n",
      "Exported : 1.wav\n",
      "Exported : 2.wav\n",
      "Exported : 3.wav\n",
      "Exported : 4.wav\n",
      "Exported : 5.wav\n",
      "Exported : 6.wav\n"
     ]
    }
   ],
   "source": [
    "separate_audio_segments(\"./test/captcha_6b11d4ebc70e4eb79614c1acc756f1da.wav\")"
   ]
  },
  {
   "cell_type": "code",
   "execution_count": null,
   "id": "4c0b7bd6",
   "metadata": {},
   "outputs": [],
   "source": []
  }
 ],
 "metadata": {
  "kernelspec": {
   "display_name": "Python 3 (ipykernel)",
   "language": "python",
   "name": "python3"
  },
  "language_info": {
   "codemirror_mode": {
    "name": "ipython",
    "version": 3
   },
   "file_extension": ".py",
   "mimetype": "text/x-python",
   "name": "python",
   "nbconvert_exporter": "python",
   "pygments_lexer": "ipython3",
   "version": "3.10.4"
  }
 },
 "nbformat": 4,
 "nbformat_minor": 5
}
