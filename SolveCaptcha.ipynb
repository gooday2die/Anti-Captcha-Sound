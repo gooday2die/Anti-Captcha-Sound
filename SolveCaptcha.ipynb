{
 "cells": [
  {
   "cell_type": "code",
   "execution_count": 1,
   "id": "f3775c01",
   "metadata": {},
   "outputs": [
    {
     "name": "stdout",
     "output_type": "stream",
     "text": [
      "importing Jupyter notebook from AudioSpliter.ipynb\n",
      "importing Jupyter notebook from ResultTesting.ipynb\n"
     ]
    },
    {
     "name": "stderr",
     "output_type": "stream",
     "text": [
      "2022-06-29 11:57:56.457784: W tensorflow/stream_executor/platform/default/dso_loader.cc:64] Could not load dynamic library 'libcudart.so.11.0'; dlerror: libcudart.so.11.0: cannot open shared object file: No such file or directory\n",
      "2022-06-29 11:57:56.457810: I tensorflow/stream_executor/cuda/cudart_stub.cc:29] Ignore above cudart dlerror if you do not have a GPU set up on your machine.\n",
      "2022-06-29 11:57:57.590504: E tensorflow/stream_executor/cuda/cuda_driver.cc:271] failed call to cuInit: CUDA_ERROR_NO_DEVICE: no CUDA-capable device is detected\n",
      "2022-06-29 11:57:57.590531: I tensorflow/stream_executor/cuda/cuda_diagnostics.cc:156] kernel driver does not appear to be running on this host (flagship): /proc/driver/nvidia/version does not exist\n",
      "2022-06-29 11:57:57.590774: I tensorflow/core/platform/cpu_feature_guard.cc:193] This TensorFlow binary is optimized with oneAPI Deep Neural Network Library (oneDNN) to use the following CPU instructions in performance-critical operations:  AVX2 AVX512F FMA\n",
      "To enable them in other operations, rebuild TensorFlow with the appropriate compiler flags.\n"
     ]
    }
   ],
   "source": [
    "import import_ipynb\n",
    "from AudioSpliter import *\n",
    "from ResultTesting import solve_captcha_letters"
   ]
  },
  {
   "cell_type": "code",
   "execution_count": 8,
   "id": "dd621b68",
   "metadata": {},
   "outputs": [],
   "source": [
    "def solve_captcha(file_name, max_segment_length=500, min_segment_length=100):\n",
    "    \"\"\"\n",
    "    A function that solves captcha using ML model\n",
    "    :param file_name: a string object that represents the directory to .wav file that needs to be solved\n",
    "    :param max_segment_length: the max length that a non silent segment can be. In miliseconds\n",
    "                               If a segment is longer than this max_segment_length, it will be splitted into another segment.\n",
    "    :param min_segment_length: the minimum length that a non silent segment can be. In miliseconds\n",
    "    :return: a list of string that represents the solved captcha\n",
    "    \"\"\"\n",
    "    separate_audio_segments(file_name, max_segment_length, min_segment_length)\n",
    "    return solve_captcha_letters(file_name)"
   ]
  },
  {
   "cell_type": "code",
   "execution_count": 7,
   "id": "b650b8bf",
   "metadata": {},
   "outputs": [
    {
     "name": "stdout",
     "output_type": "stream",
     "text": [
      "[+] Found 7 segments\n",
      "[+] Exported : 0.wav\n",
      "[+] Exported : 1.wav\n",
      "[+] Exported : 2.wav\n",
      "[+] Exported : 3.wav\n",
      "[+] Exported : 4.wav\n",
      "[+] Exported : 5.wav\n",
      "[+] Exported : 6.wav\n"
     ]
    },
    {
     "data": {
      "text/plain": [
       "['u', '3', 'n', 'a', '4']"
      ]
     },
     "execution_count": 7,
     "metadata": {},
     "output_type": "execute_result"
    }
   ],
   "source": [
    "solve_captcha(\"./test/captcha_6b11d4ebc70e4eb79614c1acc756f1da.wav\")"
   ]
  }
 ],
 "metadata": {
  "kernelspec": {
   "display_name": "Python 3 (ipykernel)",
   "language": "python",
   "name": "python3"
  },
  "language_info": {
   "codemirror_mode": {
    "name": "ipython",
    "version": 3
   },
   "file_extension": ".py",
   "mimetype": "text/x-python",
   "name": "python",
   "nbconvert_exporter": "python",
   "pygments_lexer": "ipython3",
   "version": "3.10.4"
  }
 },
 "nbformat": 4,
 "nbformat_minor": 5
}
