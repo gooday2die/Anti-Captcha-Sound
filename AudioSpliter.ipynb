{
 "cells": [
  {
   "cell_type": "code",
   "execution_count": 52,
   "id": "a9d7c262",
   "metadata": {},
   "outputs": [],
   "source": [
    "# Import the AudioSegment class for processing audio and the \n",
    "# split_on_silence function for separating out silent chunks.\n",
    "from pydub import AudioSegment\n",
    "from pydub.silence import split_on_silence\n",
    "from pydub.silence import detect_nonsilent\n",
    "\n",
    "# Define a function to normalize a chunk to a target amplitude.\n",
    "def match_target_amplitude(aChunk, target_dBFS):\n",
    "    ''' Normalize given audio chunk '''\n",
    "    change_in_dBFS = target_dBFS - aChunk.dBFS\n",
    "    return aChunk.apply_gain(change_in_dBFS)\n",
    "\n",
    "# Load your audio.\n",
    "song = AudioSegment.from_mp3(\"./test/captcha_3ec61b826d9a478797a388cb3c114402.wav\")"
   ]
  },
  {
   "cell_type": "code",
   "execution_count": 53,
   "id": "ea3a03bd",
   "metadata": {},
   "outputs": [],
   "source": [
    "from pydub import AudioSegment\n",
    "from pydub.utils import mediainfo\n",
    "\n",
    "source_file = \"./test/captcha_637a51c8bfa3453e8b4dbe8538a94960.wav\"\n",
    "\n",
    "original_bitrate = mediainfo(source_file)['bit_rate']\n",
    "sound = AudioSegment.from_mp3(source_file)"
   ]
  },
  {
   "cell_type": "code",
   "execution_count": 54,
   "id": "5d839f7f",
   "metadata": {},
   "outputs": [],
   "source": [
    "from pydub import AudioSegment\n",
    "\n",
    "song =  AudioSegment.from_wav(\"./test/captcha_637a51c8bfa3453e8b4dbe8538a94960.wav\")\n",
    "\n",
    "before_value = float('-inf')\n",
    "non_silent_start = list()\n",
    "non_silent_end = list()\n",
    "consecutive_speech = 0\n",
    "\n",
    "cur_index = 0\n",
    "for i in song:\n",
    "    cur_dBFS = i.dBFS\n",
    "    if cur_dBFS == float(\"-inf\"):\n",
    "        if before_value == float(\"-inf\"):\n",
    "            pass\n",
    "        else:\n",
    "            non_silent_end.append(cur_index)\n",
    "\n",
    "    else:\n",
    "        if before_value == float(\"-inf\"):\n",
    "            non_silent_start.append(cur_index)\n",
    "        else:\n",
    "            consecutive_speech += 1\n",
    "            \n",
    "    before_value = cur_dBFS\n",
    "    if consecutive_speech > 600:\n",
    "        non_silent_end.append(cur_index)\n",
    "        before_value = float(\"-inf\")\n",
    "        consecutive_speech = 0\n",
    "    \n",
    "    cur_index += 1\n",
    "\n",
    "# add last index as the end of non silent. Since there might be sounds that contine till end\n",
    "non_silent_end.append(len(song))  "
   ]
  },
  {
   "cell_type": "code",
   "execution_count": 55,
   "id": "0bbe9959",
   "metadata": {},
   "outputs": [
    {
     "name": "stdout",
     "output_type": "stream",
     "text": [
      "Segment Size : 601\n",
      "Segment Size : 564\n",
      "Segment Size : 23\n",
      "Segment Size : 9\n",
      "Segment Size : 6\n",
      "Segment Size : 3\n",
      "Segment Size : 34\n",
      "Segment Size : 19\n",
      "Segment Size : 16\n",
      "Segment Size : 5\n",
      "Segment Size : 1\n",
      "Segment Size : 1\n",
      "Segment Size : 531\n",
      "Segment Size : 14\n",
      "Segment Size : 2\n",
      "Segment Size : 3\n",
      "Segment Size : 2\n",
      "Segment Size : 6\n",
      "Segment Size : 5\n",
      "Segment Size : 4\n",
      "Segment Size : 1\n",
      "Segment Size : 2\n",
      "Segment Size : 3\n",
      "Segment Size : 569\n",
      "Segment Size : 567\n",
      "Segment Size : 12\n",
      "Segment Size : 3\n",
      "Segment Size : 18\n",
      "Segment Size : 1\n",
      "Segment Size : 1\n",
      "Segment Size : 3\n",
      "Segment Size : 1\n",
      "Segment Size : 3\n",
      "Segment Size : 2\n",
      "Segment Size : 1\n",
      "Segment Size : 284\n",
      "Segment Size : 1\n",
      "Segment Size : 2\n",
      "Segment Size : 316\n",
      "Segment Size : 601\n",
      "Segment Size : 420\n",
      "Segment Size : 5\n",
      "Segment Size : 1\n"
     ]
    }
   ],
   "source": [
    "non_silent_segment = list()\n",
    "\n",
    "for i in range(len(non_silent_start)):\n",
    "    print(\"Segment Size : \" + str(non_silent_end[i] - non_silent_start[i]))\n",
    "    if ((non_silent_end[i] - non_silent_start[i]) > 100):\n",
    "        non_silent_segment.append((non_silent_start[i], non_silent_end[i]))"
   ]
  },
  {
   "cell_type": "code",
   "execution_count": 56,
   "id": "699ee2d2",
   "metadata": {},
   "outputs": [
    {
     "data": {
      "text/plain": [
       "[(21, 622),\n",
       " (623, 1187),\n",
       " (1365, 1896),\n",
       " (2164, 2733),\n",
       " (2734, 3301),\n",
       " (3691, 3975),\n",
       " (3981, 4297),\n",
       " (4298, 4899),\n",
       " (4900, 5320)]"
      ]
     },
     "execution_count": 56,
     "metadata": {},
     "output_type": "execute_result"
    }
   ],
   "source": [
    "non_silent_segment"
   ]
  },
  {
   "cell_type": "code",
   "execution_count": 57,
   "id": "bd627bd0",
   "metadata": {},
   "outputs": [],
   "source": [
    "start = non_silent_segment[6][0]\n",
    "end = non_silent_segment[6][1]"
   ]
  },
  {
   "cell_type": "code",
   "execution_count": 58,
   "id": "19686357",
   "metadata": {},
   "outputs": [
    {
     "data": {
      "text/html": [
       "\n",
       "                    <audio controls>\n",
       "                        <source src=\"data:audio/mpeg;base64,SUQzBAAAAAAAI1RTU0UAAAAPAAADTGF2ZjU4LjI5LjEwMAAAAAAAAAAAAAAA/+M4wAAAAAAAAAAAAEluZm8AAAAPAAAABwAAAtAAZmZmZmZmZmZmZmZmZmaAgICAgICAgICAgICAgJmZmZmZmZmZmZmZmZmZs7Ozs7Ozs7Ozs7Ozs7OzzMzMzMzMzMzMzMzMzMzm5ubm5ubm5ubm5ubm5v//////////////////AAAAAExhdmM1OC41NAAAAAAAAAAAAAAAACQDoAAAAAAAAALQqMzPagAAAAAAAAAAAAAAAAAAAAAAAAAAAAAAAAAAAAAAAAAAAAAAAAAAAAAAAAAAAAAA/+MYxAAJ8goUAACfIP/yEIAPHlTkWE+o9t62I4UoGAzR/pBCEWJueTQqSFt0XEseHZzYIl3/6oNA5qq9XvDDQtEHIIQOBJD5/+MYxBMLAgpEAAFfIAcgAgLiDHOc/443wIZwnQdcRzVD95Z9qHjf5xxUM4RDrLDZGRTl9LDEFeADwXR/FuOouT+xpG8QpMk6/+MYxCIK6f5EAAFfIE8+1EspXrC+NXr//NVjaVbsZK7onIyZ0jptAgDwAEJGfFAoco3Ntec6nU66jFQJb9O3//+GC4PyFX///+MYxDELmjZUAABTIP//byEbWdKLqmzDSjRB0REDwBgwfHKJkHjmUcPKQUHgUh3crXZyqfk9XK4cyM1/9Mje0mef6kkPIQ57/+MYxD0QK1JwCUAoACBwkPoABiISAAFH/8/Mb/V00/16af4+sw4zRWQ1v9BFNGREII7mIaaahx2n/mlUYdNKFyZOIvU01Do6/+MYxDcXi1pmIYI4ADU3/9BOaaNguIiPRC43qb+po1r//kzS55AaDcEADQj/x3Q000eJDtVMQU1FMy4xMDBVVVVVVVVVVVVV/+MYxBMAAANIAcAAAFVVVVVVVVVVVVVVVVVVVVVVVVVVVVVVVVVVVVVVVVVVVVVVVVVVVVVVVVVVVVVVVVVVVVVVVVVVVVVV\" type=\"audio/mpeg\"/>\n",
       "                        Your browser does not support the audio element.\n",
       "                    </audio>\n",
       "                  "
      ],
      "text/plain": [
       "<pydub.audio_segment.AudioSegment at 0x7fc65c22af70>"
      ]
     },
     "execution_count": 58,
     "metadata": {},
     "output_type": "execute_result"
    }
   ],
   "source": [
    "song[start : end]"
   ]
  },
  {
   "cell_type": "code",
   "execution_count": 59,
   "id": "60b4d084",
   "metadata": {
    "scrolled": true
   },
   "outputs": [
    {
     "name": "stdout",
     "output_type": "stream",
     "text": [
      "Exported : 0.wav\n",
      "Exported : 1.wav\n",
      "Exported : 2.wav\n",
      "Exported : 3.wav\n",
      "Exported : 4.wav\n",
      "Exported : 5.wav\n",
      "Exported : 6.wav\n",
      "Exported : 7.wav\n",
      "Exported : 8.wav\n"
     ]
    }
   ],
   "source": [
    "for i in range(len(non_silent_segment)):\n",
    "    start = non_silent_segment[i][0]\n",
    "    end = non_silent_segment[i][1]\n",
    "    cur_song = song[start:end]\n",
    "    cur_song.export(str(i) + \".wav\", format=\"wav\")\n",
    "    print(\"Exported : \" + str(i) + \".wav\")"
   ]
  },
  {
   "cell_type": "code",
   "execution_count": null,
   "id": "c8af1680",
   "metadata": {},
   "outputs": [],
   "source": [
    "1"
   ]
  },
  {
   "cell_type": "code",
   "execution_count": null,
   "id": "5672169d",
   "metadata": {},
   "outputs": [],
   "source": []
  },
  {
   "cell_type": "code",
   "execution_count": null,
   "id": "8b14ba14",
   "metadata": {},
   "outputs": [],
   "source": []
  },
  {
   "cell_type": "code",
   "execution_count": null,
   "id": "ddfbd432",
   "metadata": {},
   "outputs": [],
   "source": []
  },
  {
   "cell_type": "code",
   "execution_count": null,
   "id": "aebd0653",
   "metadata": {},
   "outputs": [],
   "source": []
  }
 ],
 "metadata": {
  "kernelspec": {
   "display_name": "Python 3 (ipykernel)",
   "language": "python",
   "name": "python3"
  },
  "language_info": {
   "codemirror_mode": {
    "name": "ipython",
    "version": 3
   },
   "file_extension": ".py",
   "mimetype": "text/x-python",
   "name": "python",
   "nbconvert_exporter": "python",
   "pygments_lexer": "ipython3",
   "version": "3.8.10"
  }
 },
 "nbformat": 4,
 "nbformat_minor": 5
}
