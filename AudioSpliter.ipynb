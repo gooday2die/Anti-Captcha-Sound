{
 "cells": [
  {
   "cell_type": "code",
   "execution_count": 65,
   "id": "5d839f7f",
   "metadata": {},
   "outputs": [],
   "source": [
    "from pydub import AudioSegment\n",
    "\n",
    "def generate_non_silent_segments(file_name, max_segment_length=500, min_segment_length=100):\n",
    "    \"\"\"\n",
    "    A function that generates non silent segment\n",
    "    :param file_name: the file name to find non silent segments from\n",
    "    :param max_segment_length: the max length that a non silent segment can be. In miliseconds\n",
    "                               If a segment is longer than this max_segment_length, it will be splitted into another segment.\n",
    "    :param min_segment_length: the minimum length that a non silent segment can be. In miliseconds\n",
    "    :return: returns a list of tuple that represents start and end of each segments.\n",
    "    \"\"\"\n",
    "    # load audio using AudioSegment\n",
    "    song =  AudioSegment.from_wav(file_name)\n",
    "    \n",
    "    before_value = float('-inf')   # variable for storing before value, starts with -inf\n",
    "    non_silent_start = list()  # a list that stores when non silent segment starts\n",
    "    non_silent_end = list()  # a list that stores when non silent segment ends\n",
    "    consecutive_speech = 0  # a variable for storing length of current segment\n",
    "\n",
    "    cur_index = 0  # a variable for storing current playhead position\n",
    "\n",
    "    for i in song:  # Iterate over all values\n",
    "        cur_dBFS = i.dBFS   \n",
    "        if cur_dBFS == float(\"-inf\"):  # if current value is -inf \n",
    "            if before_value == float(\"-inf\"):\n",
    "                # which means -inf to -inf, then it means just silent, so pass.\n",
    "                pass\n",
    "            else:\n",
    "                # which means non inf to -inf, then it means the non_silent was ended here.\n",
    "                non_silent_end.append(cur_index)\n",
    "\n",
    "        else:\n",
    "            if before_value == float(\"-inf\"):\n",
    "                # which means that this was -inf to non inf, then it means non silent has started here.\n",
    "                non_silent_start.append(cur_index)\n",
    "            else:\n",
    "                # which means it was non inf to non inf, then it means it is a non silent segment\n",
    "                consecutive_speech += 1  # so add 1 to current non silent segment's length\n",
    "\n",
    "        before_value = cur_dBFS  # update before value\n",
    "        if consecutive_speech > max_segment_length:  # if cur segment was longer than max segment length\n",
    "            non_silent_end.append(cur_index) # split the audio\n",
    "            before_value = float(\"-inf\")  # reset before value as -inf so that next step can be a new start\n",
    "            consecutive_speech = 0  # reset as 0\n",
    "        cur_index += 1  # increment count\n",
    "\n",
    "    # add last index as the end of non silent. Since there might be sounds that contine till end\n",
    "    # Till here, the non_silent_start and end is determined, now it is time for segments.\n",
    "    non_silent_end.append(len(song))  \n",
    "    \n",
    "    non_silent_segment = list()  # variable for storing non_silent segment\n",
    "    for i in range(len(non_silent_start)):\n",
    "        if ((non_silent_end[i] - non_silent_start[i]) > min_segment_length):  # if the sound lasted more than min_segment_length\n",
    "            non_silent_segment.append((non_silent_start[i], non_silent_end[i]))\n",
    "\n",
    "    return non_silent_segment"
   ]
  },
  {
   "cell_type": "code",
   "execution_count": 66,
   "id": "5403e031",
   "metadata": {},
   "outputs": [],
   "source": [
    "def separate_audio_segments(non_silent_segment):\n",
    "    \"\"\"\n",
    "    A function that separates audio segments according to non_silent_segment.\n",
    "    This function will generate directory named separated and will place separated audios into that directory\n",
    "    :param non_silent_segment: A list of tuple that has start and end of the non silent segment\n",
    "    \"\"\"\n",
    "    cur_path = os.getcwd()\n",
    "    out_path = os.path.join(cur_path, \"separated\")\n",
    "\n",
    "    for i in range(len(non_silent_segment)):\n",
    "        start = non_silent_segment[i][0]\n",
    "        end = non_silent_segment[i][1]\n",
    "        cur_song = song[start:end]\n",
    "        export_path = os.path.join(out_path, str(i) + \".wav\")\n",
    "        try:\n",
    "            cur_song.export(export_path, format=\"wav\")\n",
    "        except FileNotFoundError:  # If directory does not exist\n",
    "            os.mkdir(out_path)\n",
    "            cur_song.export(export_path, format=\"wav\")\n",
    "        print(\"Exported : \" + str(i) + \".wav\")"
   ]
  },
  {
   "cell_type": "code",
   "execution_count": 67,
   "id": "0dbb134d",
   "metadata": {},
   "outputs": [],
   "source": [
    "a = generate_non_silent_segments(\"./test/captcha_6b11d4ebc70e4eb79614c1acc756f1da.wav\")"
   ]
  },
  {
   "cell_type": "code",
   "execution_count": 68,
   "id": "a66aa740",
   "metadata": {
    "scrolled": true
   },
   "outputs": [
    {
     "name": "stdout",
     "output_type": "stream",
     "text": [
      "Exported : 0.wav\n",
      "Exported : 1.wav\n",
      "Exported : 2.wav\n",
      "Exported : 3.wav\n",
      "Exported : 4.wav\n",
      "Exported : 5.wav\n",
      "Exported : 6.wav\n"
     ]
    }
   ],
   "source": [
    "separate_audio_segments(a)"
   ]
  },
  {
   "cell_type": "code",
   "execution_count": null,
   "id": "a0f4e861",
   "metadata": {},
   "outputs": [],
   "source": []
  }
 ],
 "metadata": {
  "kernelspec": {
   "display_name": "Python 3 (ipykernel)",
   "language": "python",
   "name": "python3"
  },
  "language_info": {
   "codemirror_mode": {
    "name": "ipython",
    "version": 3
   },
   "file_extension": ".py",
   "mimetype": "text/x-python",
   "name": "python",
   "nbconvert_exporter": "python",
   "pygments_lexer": "ipython3",
   "version": "3.8.10"
  }
 },
 "nbformat": 4,
 "nbformat_minor": 5
}
