{
 "cells": [
  {
   "cell_type": "code",
   "execution_count": 2,
   "id": "23eac80c",
   "metadata": {},
   "outputs": [],
   "source": [
    "import pandas as pd"
   ]
  },
  {
   "cell_type": "code",
   "execution_count": 6,
   "id": "f628be5c",
   "metadata": {},
   "outputs": [],
   "source": [
    "data = pd.read_csv(\"project-3-at-2022-06-23-07-16-c998cdd4.csv\")"
   ]
  },
  {
   "cell_type": "code",
   "execution_count": 7,
   "id": "fcdcefde",
   "metadata": {},
   "outputs": [
    {
     "data": {
      "text/html": [
       "<div>\n",
       "<style scoped>\n",
       "    .dataframe tbody tr th:only-of-type {\n",
       "        vertical-align: middle;\n",
       "    }\n",
       "\n",
       "    .dataframe tbody tr th {\n",
       "        vertical-align: top;\n",
       "    }\n",
       "\n",
       "    .dataframe thead th {\n",
       "        text-align: right;\n",
       "    }\n",
       "</style>\n",
       "<table border=\"1\" class=\"dataframe\">\n",
       "  <thead>\n",
       "    <tr style=\"text-align: right;\">\n",
       "      <th></th>\n",
       "      <th>audio</th>\n",
       "      <th>id</th>\n",
       "      <th>labels</th>\n",
       "      <th>intent</th>\n",
       "      <th>annotator</th>\n",
       "      <th>annotation_id</th>\n",
       "      <th>created_at</th>\n",
       "      <th>updated_at</th>\n",
       "      <th>lead_time</th>\n",
       "    </tr>\n",
       "  </thead>\n",
       "  <tbody>\n",
       "    <tr>\n",
       "      <th>0</th>\n",
       "      <td>/data/upload/3/e927b793-captcha_30812942ace145...</td>\n",
       "      <td>231</td>\n",
       "      <td>[{\"start\": 0.018023407022106634, \"end\": 0.7029...</td>\n",
       "      <td>[\"5\", \"t\", \"j\", \"t\", \"n\"]</td>\n",
       "      <td>1</td>\n",
       "      <td>204</td>\n",
       "      <td>2022-06-23T07:15:34.690675Z</td>\n",
       "      <td>2022-06-23T07:15:34.690715Z</td>\n",
       "      <td>60.063</td>\n",
       "    </tr>\n",
       "    <tr>\n",
       "      <th>1</th>\n",
       "      <td>/data/upload/3/6b862932-captcha_aabb62c7b14246...</td>\n",
       "      <td>230</td>\n",
       "      <td>[{\"start\": 0.6905968790637191, \"end\": 1.515725...</td>\n",
       "      <td>[\"3\", \"b\", \"c\", \"s\", \"x\"]</td>\n",
       "      <td>1</td>\n",
       "      <td>203</td>\n",
       "      <td>2022-06-23T07:14:33.044590Z</td>\n",
       "      <td>2022-06-23T07:14:33.044650Z</td>\n",
       "      <td>29.206</td>\n",
       "    </tr>\n",
       "    <tr>\n",
       "      <th>2</th>\n",
       "      <td>/data/upload/3/5ef7dc1f-captcha_537f9b78ce034e...</td>\n",
       "      <td>229</td>\n",
       "      <td>[{\"start\": 0.01408322496749028, \"end\": 0.72528...</td>\n",
       "      <td>[\"h\", \"e\", \"a\", \"t\", \"8\"]</td>\n",
       "      <td>1</td>\n",
       "      <td>202</td>\n",
       "      <td>2022-06-23T07:13:02.771565Z</td>\n",
       "      <td>2022-06-23T07:13:02.771607Z</td>\n",
       "      <td>21.196</td>\n",
       "    </tr>\n",
       "    <tr>\n",
       "      <th>3</th>\n",
       "      <td>/data/upload/3/1f7f1474-captcha_81d78ed3e0fd4b...</td>\n",
       "      <td>228</td>\n",
       "      <td>[{\"start\": 0.016954486345903796, \"end\": 0.7968...</td>\n",
       "      <td>[\"s\", \"w\", \"c\", \"m\", \"b\"]</td>\n",
       "      <td>1</td>\n",
       "      <td>201</td>\n",
       "      <td>2022-06-23T07:12:40.147347Z</td>\n",
       "      <td>2022-06-23T07:12:40.147404Z</td>\n",
       "      <td>44.196</td>\n",
       "    </tr>\n",
       "    <tr>\n",
       "      <th>4</th>\n",
       "      <td>/data/upload/3/a7d8f833-captcha_42bf8321d7cb45...</td>\n",
       "      <td>227</td>\n",
       "      <td>[{\"start\": 0.20611573472041617, \"end\": 0.76462...</td>\n",
       "      <td>[\"c\", \"s\", \"8\", \"8\", \"e\"]</td>\n",
       "      <td>1</td>\n",
       "      <td>200</td>\n",
       "      <td>2022-06-23T07:11:52.386934Z</td>\n",
       "      <td>2022-06-23T07:11:52.386977Z</td>\n",
       "      <td>34.983</td>\n",
       "    </tr>\n",
       "    <tr>\n",
       "      <th>...</th>\n",
       "      <td>...</td>\n",
       "      <td>...</td>\n",
       "      <td>...</td>\n",
       "      <td>...</td>\n",
       "      <td>...</td>\n",
       "      <td>...</td>\n",
       "      <td>...</td>\n",
       "      <td>...</td>\n",
       "      <td>...</td>\n",
       "    </tr>\n",
       "    <tr>\n",
       "      <th>195</th>\n",
       "      <td>/data/upload/3/fdb11473-14.wav</td>\n",
       "      <td>36</td>\n",
       "      <td>[{\"start\": 0.24370936280884267, \"end\": 0.93606...</td>\n",
       "      <td>[\"h\", \"y\", \"c\", \"e\", \"y\"]</td>\n",
       "      <td>1</td>\n",
       "      <td>9</td>\n",
       "      <td>2022-06-22T05:13:17.925896Z</td>\n",
       "      <td>2022-06-22T05:13:17.925940Z</td>\n",
       "      <td>47.875</td>\n",
       "    </tr>\n",
       "    <tr>\n",
       "      <th>196</th>\n",
       "      <td>/data/upload/3/766bb823-13.wav</td>\n",
       "      <td>35</td>\n",
       "      <td>[{\"start\": 0, \"end\": 0.35361638491547465, \"lab...</td>\n",
       "      <td>[\"9\", \"k\", \"v\", \"j\", \"r\"]</td>\n",
       "      <td>1</td>\n",
       "      <td>8</td>\n",
       "      <td>2022-06-22T05:12:28.732783Z</td>\n",
       "      <td>2022-06-22T05:12:28.732840Z</td>\n",
       "      <td>48.905</td>\n",
       "    </tr>\n",
       "    <tr>\n",
       "      <th>197</th>\n",
       "      <td>/data/upload/3/c1a6c68a-12.wav</td>\n",
       "      <td>34</td>\n",
       "      <td>[{\"start\": 0.1081404421326398, \"end\": 0.714928...</td>\n",
       "      <td>[\"e\", \"3\", \"j\", \"w\", \"e\"]</td>\n",
       "      <td>1</td>\n",
       "      <td>7</td>\n",
       "      <td>2022-06-22T05:11:36.108893Z</td>\n",
       "      <td>2022-06-22T05:11:36.108937Z</td>\n",
       "      <td>37.862</td>\n",
       "    </tr>\n",
       "    <tr>\n",
       "      <th>198</th>\n",
       "      <td>/data/upload/3/45edc4cd-10.wav</td>\n",
       "      <td>32</td>\n",
       "      <td>[{\"start\": 0.027353706111833548, \"end\": 0.4540...</td>\n",
       "      <td>[\"d\", \"5\", \"s\", \"w\", \"v\"]</td>\n",
       "      <td>1</td>\n",
       "      <td>6</td>\n",
       "      <td>2022-06-22T05:10:56.618416Z</td>\n",
       "      <td>2022-06-22T05:10:56.618468Z</td>\n",
       "      <td>61.213</td>\n",
       "    </tr>\n",
       "    <tr>\n",
       "      <th>199</th>\n",
       "      <td>/data/upload/3/5818c9f6-11.wav</td>\n",
       "      <td>33</td>\n",
       "      <td>[{\"start\": 0.019548764629388836, \"end\": 0.5603...</td>\n",
       "      <td>[\"r\", \"h\", \"4\", \"9\", \"v\"]</td>\n",
       "      <td>1</td>\n",
       "      <td>5</td>\n",
       "      <td>2022-06-22T05:09:37.258294Z</td>\n",
       "      <td>2022-06-22T05:09:37.258334Z</td>\n",
       "      <td>93.830</td>\n",
       "    </tr>\n",
       "  </tbody>\n",
       "</table>\n",
       "<p>200 rows × 9 columns</p>\n",
       "</div>"
      ],
      "text/plain": [
       "                                                 audio   id  \\\n",
       "0    /data/upload/3/e927b793-captcha_30812942ace145...  231   \n",
       "1    /data/upload/3/6b862932-captcha_aabb62c7b14246...  230   \n",
       "2    /data/upload/3/5ef7dc1f-captcha_537f9b78ce034e...  229   \n",
       "3    /data/upload/3/1f7f1474-captcha_81d78ed3e0fd4b...  228   \n",
       "4    /data/upload/3/a7d8f833-captcha_42bf8321d7cb45...  227   \n",
       "..                                                 ...  ...   \n",
       "195                     /data/upload/3/fdb11473-14.wav   36   \n",
       "196                     /data/upload/3/766bb823-13.wav   35   \n",
       "197                     /data/upload/3/c1a6c68a-12.wav   34   \n",
       "198                     /data/upload/3/45edc4cd-10.wav   32   \n",
       "199                     /data/upload/3/5818c9f6-11.wav   33   \n",
       "\n",
       "                                                labels  \\\n",
       "0    [{\"start\": 0.018023407022106634, \"end\": 0.7029...   \n",
       "1    [{\"start\": 0.6905968790637191, \"end\": 1.515725...   \n",
       "2    [{\"start\": 0.01408322496749028, \"end\": 0.72528...   \n",
       "3    [{\"start\": 0.016954486345903796, \"end\": 0.7968...   \n",
       "4    [{\"start\": 0.20611573472041617, \"end\": 0.76462...   \n",
       "..                                                 ...   \n",
       "195  [{\"start\": 0.24370936280884267, \"end\": 0.93606...   \n",
       "196  [{\"start\": 0, \"end\": 0.35361638491547465, \"lab...   \n",
       "197  [{\"start\": 0.1081404421326398, \"end\": 0.714928...   \n",
       "198  [{\"start\": 0.027353706111833548, \"end\": 0.4540...   \n",
       "199  [{\"start\": 0.019548764629388836, \"end\": 0.5603...   \n",
       "\n",
       "                        intent  annotator  annotation_id  \\\n",
       "0    [\"5\", \"t\", \"j\", \"t\", \"n\"]          1            204   \n",
       "1    [\"3\", \"b\", \"c\", \"s\", \"x\"]          1            203   \n",
       "2    [\"h\", \"e\", \"a\", \"t\", \"8\"]          1            202   \n",
       "3    [\"s\", \"w\", \"c\", \"m\", \"b\"]          1            201   \n",
       "4    [\"c\", \"s\", \"8\", \"8\", \"e\"]          1            200   \n",
       "..                         ...        ...            ...   \n",
       "195  [\"h\", \"y\", \"c\", \"e\", \"y\"]          1              9   \n",
       "196  [\"9\", \"k\", \"v\", \"j\", \"r\"]          1              8   \n",
       "197  [\"e\", \"3\", \"j\", \"w\", \"e\"]          1              7   \n",
       "198  [\"d\", \"5\", \"s\", \"w\", \"v\"]          1              6   \n",
       "199  [\"r\", \"h\", \"4\", \"9\", \"v\"]          1              5   \n",
       "\n",
       "                      created_at                   updated_at  lead_time  \n",
       "0    2022-06-23T07:15:34.690675Z  2022-06-23T07:15:34.690715Z     60.063  \n",
       "1    2022-06-23T07:14:33.044590Z  2022-06-23T07:14:33.044650Z     29.206  \n",
       "2    2022-06-23T07:13:02.771565Z  2022-06-23T07:13:02.771607Z     21.196  \n",
       "3    2022-06-23T07:12:40.147347Z  2022-06-23T07:12:40.147404Z     44.196  \n",
       "4    2022-06-23T07:11:52.386934Z  2022-06-23T07:11:52.386977Z     34.983  \n",
       "..                           ...                          ...        ...  \n",
       "195  2022-06-22T05:13:17.925896Z  2022-06-22T05:13:17.925940Z     47.875  \n",
       "196  2022-06-22T05:12:28.732783Z  2022-06-22T05:12:28.732840Z     48.905  \n",
       "197  2022-06-22T05:11:36.108893Z  2022-06-22T05:11:36.108937Z     37.862  \n",
       "198  2022-06-22T05:10:56.618416Z  2022-06-22T05:10:56.618468Z     61.213  \n",
       "199  2022-06-22T05:09:37.258294Z  2022-06-22T05:09:37.258334Z     93.830  \n",
       "\n",
       "[200 rows x 9 columns]"
      ]
     },
     "execution_count": 7,
     "metadata": {},
     "output_type": "execute_result"
    }
   ],
   "source": [
    "data"
   ]
  },
  {
   "cell_type": "code",
   "execution_count": 21,
   "id": "d4e9804d",
   "metadata": {},
   "outputs": [],
   "source": [
    "all_labels = list()\n",
    "all_files = list()\n",
    "\n",
    "start_1 = list()\n",
    "end_1 = list()\n",
    "start_2 = list()\n",
    "end_2 = list()\n",
    "start_3 = list()\n",
    "end_3 = list()\n",
    "start_4 = list()\n",
    "end_4 = list()\n",
    "start_5 = list()\n",
    "end_5 = list()\n",
    "\n",
    "for i in range(len(data)):\n",
    "    cur_data = data.loc[i]\n",
    "    labels = eval(cur_data['labels'])\n",
    "    \n",
    "    all_labels.append(labels)\n",
    "    all_files.append(cur_data['audio'])\n",
    "    \n",
    "    for i in range(0, len(labels) - 1, 1):\n",
    "        eval(\"start_\" + str(i + 1)).append(labels[i]['start'])\n",
    "        eval(\"end_\" + str(i + 1)).append(labels[i]['end'])"
   ]
  },
  {
   "cell_type": "code",
   "execution_count": 42,
   "id": "a4765049",
   "metadata": {},
   "outputs": [
    {
     "data": {
      "text/plain": [
       "audio            /data/upload/3/e927b793-captcha_30812942ace145...\n",
       "id                                                             231\n",
       "labels           [{\"start\": 0.018023407022106634, \"end\": 0.7029...\n",
       "intent                                   [\"5\", \"t\", \"j\", \"t\", \"n\"]\n",
       "annotator                                                        1\n",
       "annotation_id                                                  204\n",
       "created_at                             2022-06-23T07:15:34.690675Z\n",
       "updated_at                             2022-06-23T07:15:34.690715Z\n",
       "lead_time                                                   60.063\n",
       "Name: 0, dtype: object"
      ]
     },
     "execution_count": 42,
     "metadata": {},
     "output_type": "execute_result"
    }
   ],
   "source": [
    "eval(data.loc[0]['labels']).l"
   ]
  },
  {
   "cell_type": "code",
   "execution_count": 27,
   "id": "29825693",
   "metadata": {
    "scrolled": true
   },
   "outputs": [
    {
     "data": {
      "text/plain": [
       "200"
      ]
     },
     "execution_count": 27,
     "metadata": {},
     "output_type": "execute_result"
    }
   ],
   "source": [
    "len(all_files)"
   ]
  },
  {
   "cell_type": "code",
   "execution_count": 33,
   "id": "14c16845",
   "metadata": {},
   "outputs": [
    {
     "data": {
      "text/plain": [
       "1"
      ]
     },
     "execution_count": 33,
     "metadata": {},
     "output_type": "execute_result"
    }
   ],
   "source": [
    "len(start_5)"
   ]
  },
  {
   "cell_type": "code",
   "execution_count": 38,
   "id": "4ec8e36e",
   "metadata": {},
   "outputs": [
    {
     "data": {
      "text/plain": [
       "1"
      ]
     },
     "execution_count": 38,
     "metadata": {},
     "output_type": "execute_result"
    }
   ],
   "source": [
    "len(end_5)"
   ]
  },
  {
   "cell_type": "code",
   "execution_count": 43,
   "id": "d8366b7e",
   "metadata": {},
   "outputs": [
    {
     "ename": "ValueError",
     "evalue": "Length of values (198) does not match length of index (200)",
     "output_type": "error",
     "traceback": [
      "\u001b[0;31m---------------------------------------------------------------------------\u001b[0m",
      "\u001b[0;31mValueError\u001b[0m                                Traceback (most recent call last)",
      "\u001b[0;32m/tmp/ipykernel_594741/1596040924.py\u001b[0m in \u001b[0;36m<module>\u001b[0;34m\u001b[0m\n\u001b[1;32m      3\u001b[0m \u001b[0mdf\u001b[0m\u001b[0;34m[\u001b[0m\u001b[0;34m'start_1'\u001b[0m\u001b[0;34m]\u001b[0m \u001b[0;34m=\u001b[0m \u001b[0mstart_1\u001b[0m\u001b[0;34m\u001b[0m\u001b[0;34m\u001b[0m\u001b[0m\n\u001b[1;32m      4\u001b[0m \u001b[0mdf\u001b[0m\u001b[0;34m[\u001b[0m\u001b[0;34m'start_2'\u001b[0m\u001b[0;34m]\u001b[0m \u001b[0;34m=\u001b[0m \u001b[0mstart_2\u001b[0m\u001b[0;34m\u001b[0m\u001b[0;34m\u001b[0m\u001b[0m\n\u001b[0;32m----> 5\u001b[0;31m \u001b[0mdf\u001b[0m\u001b[0;34m[\u001b[0m\u001b[0;34m'start_3'\u001b[0m\u001b[0;34m]\u001b[0m \u001b[0;34m=\u001b[0m \u001b[0mstart_3\u001b[0m\u001b[0;34m\u001b[0m\u001b[0;34m\u001b[0m\u001b[0m\n\u001b[0m\u001b[1;32m      6\u001b[0m \u001b[0mdf\u001b[0m\u001b[0;34m[\u001b[0m\u001b[0;34m'start_4'\u001b[0m\u001b[0;34m]\u001b[0m \u001b[0;34m=\u001b[0m \u001b[0mstart_4\u001b[0m\u001b[0;34m\u001b[0m\u001b[0;34m\u001b[0m\u001b[0m\n\u001b[1;32m      7\u001b[0m \u001b[0mdf\u001b[0m\u001b[0;34m[\u001b[0m\u001b[0;34m'start_5'\u001b[0m\u001b[0;34m]\u001b[0m \u001b[0;34m=\u001b[0m \u001b[0mstart_5\u001b[0m\u001b[0;34m\u001b[0m\u001b[0;34m\u001b[0m\u001b[0m\n",
      "\u001b[0;32m~/.local/lib/python3.8/site-packages/pandas/core/frame.py\u001b[0m in \u001b[0;36m__setitem__\u001b[0;34m(self, key, value)\u001b[0m\n\u001b[1;32m   3038\u001b[0m         \u001b[0;32melse\u001b[0m\u001b[0;34m:\u001b[0m\u001b[0;34m\u001b[0m\u001b[0;34m\u001b[0m\u001b[0m\n\u001b[1;32m   3039\u001b[0m             \u001b[0;31m# set column\u001b[0m\u001b[0;34m\u001b[0m\u001b[0;34m\u001b[0m\u001b[0;34m\u001b[0m\u001b[0m\n\u001b[0;32m-> 3040\u001b[0;31m             \u001b[0mself\u001b[0m\u001b[0;34m.\u001b[0m\u001b[0m_set_item\u001b[0m\u001b[0;34m(\u001b[0m\u001b[0mkey\u001b[0m\u001b[0;34m,\u001b[0m \u001b[0mvalue\u001b[0m\u001b[0;34m)\u001b[0m\u001b[0;34m\u001b[0m\u001b[0;34m\u001b[0m\u001b[0m\n\u001b[0m\u001b[1;32m   3041\u001b[0m \u001b[0;34m\u001b[0m\u001b[0m\n\u001b[1;32m   3042\u001b[0m     \u001b[0;32mdef\u001b[0m \u001b[0m_setitem_slice\u001b[0m\u001b[0;34m(\u001b[0m\u001b[0mself\u001b[0m\u001b[0;34m,\u001b[0m \u001b[0mkey\u001b[0m\u001b[0;34m:\u001b[0m \u001b[0mslice\u001b[0m\u001b[0;34m,\u001b[0m \u001b[0mvalue\u001b[0m\u001b[0;34m)\u001b[0m\u001b[0;34m:\u001b[0m\u001b[0;34m\u001b[0m\u001b[0;34m\u001b[0m\u001b[0m\n",
      "\u001b[0;32m~/.local/lib/python3.8/site-packages/pandas/core/frame.py\u001b[0m in \u001b[0;36m_set_item\u001b[0;34m(self, key, value)\u001b[0m\n\u001b[1;32m   3114\u001b[0m         \"\"\"\n\u001b[1;32m   3115\u001b[0m         \u001b[0mself\u001b[0m\u001b[0;34m.\u001b[0m\u001b[0m_ensure_valid_index\u001b[0m\u001b[0;34m(\u001b[0m\u001b[0mvalue\u001b[0m\u001b[0;34m)\u001b[0m\u001b[0;34m\u001b[0m\u001b[0;34m\u001b[0m\u001b[0m\n\u001b[0;32m-> 3116\u001b[0;31m         \u001b[0mvalue\u001b[0m \u001b[0;34m=\u001b[0m \u001b[0mself\u001b[0m\u001b[0;34m.\u001b[0m\u001b[0m_sanitize_column\u001b[0m\u001b[0;34m(\u001b[0m\u001b[0mkey\u001b[0m\u001b[0;34m,\u001b[0m \u001b[0mvalue\u001b[0m\u001b[0;34m)\u001b[0m\u001b[0;34m\u001b[0m\u001b[0;34m\u001b[0m\u001b[0m\n\u001b[0m\u001b[1;32m   3117\u001b[0m         \u001b[0mNDFrame\u001b[0m\u001b[0;34m.\u001b[0m\u001b[0m_set_item\u001b[0m\u001b[0;34m(\u001b[0m\u001b[0mself\u001b[0m\u001b[0;34m,\u001b[0m \u001b[0mkey\u001b[0m\u001b[0;34m,\u001b[0m \u001b[0mvalue\u001b[0m\u001b[0;34m)\u001b[0m\u001b[0;34m\u001b[0m\u001b[0;34m\u001b[0m\u001b[0m\n\u001b[1;32m   3118\u001b[0m \u001b[0;34m\u001b[0m\u001b[0m\n",
      "\u001b[0;32m~/.local/lib/python3.8/site-packages/pandas/core/frame.py\u001b[0m in \u001b[0;36m_sanitize_column\u001b[0;34m(self, key, value, broadcast)\u001b[0m\n\u001b[1;32m   3761\u001b[0m \u001b[0;34m\u001b[0m\u001b[0m\n\u001b[1;32m   3762\u001b[0m             \u001b[0;31m# turn me into an ndarray\u001b[0m\u001b[0;34m\u001b[0m\u001b[0;34m\u001b[0m\u001b[0;34m\u001b[0m\u001b[0m\n\u001b[0;32m-> 3763\u001b[0;31m             \u001b[0mvalue\u001b[0m \u001b[0;34m=\u001b[0m \u001b[0msanitize_index\u001b[0m\u001b[0;34m(\u001b[0m\u001b[0mvalue\u001b[0m\u001b[0;34m,\u001b[0m \u001b[0mself\u001b[0m\u001b[0;34m.\u001b[0m\u001b[0mindex\u001b[0m\u001b[0;34m)\u001b[0m\u001b[0;34m\u001b[0m\u001b[0;34m\u001b[0m\u001b[0m\n\u001b[0m\u001b[1;32m   3764\u001b[0m             \u001b[0;32mif\u001b[0m \u001b[0;32mnot\u001b[0m \u001b[0misinstance\u001b[0m\u001b[0;34m(\u001b[0m\u001b[0mvalue\u001b[0m\u001b[0;34m,\u001b[0m \u001b[0;34m(\u001b[0m\u001b[0mnp\u001b[0m\u001b[0;34m.\u001b[0m\u001b[0mndarray\u001b[0m\u001b[0;34m,\u001b[0m \u001b[0mIndex\u001b[0m\u001b[0;34m)\u001b[0m\u001b[0;34m)\u001b[0m\u001b[0;34m:\u001b[0m\u001b[0;34m\u001b[0m\u001b[0;34m\u001b[0m\u001b[0m\n\u001b[1;32m   3765\u001b[0m                 \u001b[0;32mif\u001b[0m \u001b[0misinstance\u001b[0m\u001b[0;34m(\u001b[0m\u001b[0mvalue\u001b[0m\u001b[0;34m,\u001b[0m \u001b[0mlist\u001b[0m\u001b[0;34m)\u001b[0m \u001b[0;32mand\u001b[0m \u001b[0mlen\u001b[0m\u001b[0;34m(\u001b[0m\u001b[0mvalue\u001b[0m\u001b[0;34m)\u001b[0m \u001b[0;34m>\u001b[0m \u001b[0;36m0\u001b[0m\u001b[0;34m:\u001b[0m\u001b[0;34m\u001b[0m\u001b[0;34m\u001b[0m\u001b[0m\n",
      "\u001b[0;32m~/.local/lib/python3.8/site-packages/pandas/core/internals/construction.py\u001b[0m in \u001b[0;36msanitize_index\u001b[0;34m(data, index)\u001b[0m\n\u001b[1;32m    745\u001b[0m     \"\"\"\n\u001b[1;32m    746\u001b[0m     \u001b[0;32mif\u001b[0m \u001b[0mlen\u001b[0m\u001b[0;34m(\u001b[0m\u001b[0mdata\u001b[0m\u001b[0;34m)\u001b[0m \u001b[0;34m!=\u001b[0m \u001b[0mlen\u001b[0m\u001b[0;34m(\u001b[0m\u001b[0mindex\u001b[0m\u001b[0;34m)\u001b[0m\u001b[0;34m:\u001b[0m\u001b[0;34m\u001b[0m\u001b[0;34m\u001b[0m\u001b[0m\n\u001b[0;32m--> 747\u001b[0;31m         raise ValueError(\n\u001b[0m\u001b[1;32m    748\u001b[0m             \u001b[0;34m\"Length of values \"\u001b[0m\u001b[0;34m\u001b[0m\u001b[0;34m\u001b[0m\u001b[0m\n\u001b[1;32m    749\u001b[0m             \u001b[0;34mf\"({len(data)}) \"\u001b[0m\u001b[0;34m\u001b[0m\u001b[0;34m\u001b[0m\u001b[0m\n",
      "\u001b[0;31mValueError\u001b[0m: Length of values (198) does not match length of index (200)"
     ]
    }
   ],
   "source": [
    "df = pd.DataFrame()\n",
    "df['files'] = all_files\n",
    "df['start_1'] = start_1\n",
    "df['start_2'] = start_2\n",
    "df['start_3'] = start_3\n",
    "df['start_4'] = start_4\n",
    "df['start_5'] = start_5\n",
    "\n",
    "df['end_1'] = end_1\n",
    "df['end_2'] = end_2\n",
    "df['end_3'] = end_3\n",
    "df['end_4'] = end_4\n",
    "df['end_5'] = end_5"
   ]
  },
  {
   "cell_type": "code",
   "execution_count": null,
   "id": "3b775f9c",
   "metadata": {},
   "outputs": [],
   "source": []
  },
  {
   "cell_type": "code",
   "execution_count": null,
   "id": "531ca692",
   "metadata": {},
   "outputs": [],
   "source": []
  }
 ],
 "metadata": {
  "kernelspec": {
   "display_name": "Python 3 (ipykernel)",
   "language": "python",
   "name": "python3"
  },
  "language_info": {
   "codemirror_mode": {
    "name": "ipython",
    "version": 3
   },
   "file_extension": ".py",
   "mimetype": "text/x-python",
   "name": "python",
   "nbconvert_exporter": "python",
   "pygments_lexer": "ipython3",
   "version": "3.8.10"
  }
 },
 "nbformat": 4,
 "nbformat_minor": 5
}
